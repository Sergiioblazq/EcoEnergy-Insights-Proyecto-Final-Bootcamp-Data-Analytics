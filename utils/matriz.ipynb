{
 "cells": [
  {
   "cell_type": "markdown",
   "id": "f1c45a62",
   "metadata": {},
   "source": [
    "📒 Notebook — EcoEnergy Insights: OPSD + KAGGLE"
   ]
  },
  {
   "cell_type": "code",
   "execution_count": null,
   "id": "3c19f511",
   "metadata": {},
   "outputs": [],
   "source": [
    "# =========================================================\n",
    "# 🟢 1. Librerías\n",
    "# =========================================================\n",
    "import pandas as pd\n",
    "import matplotlib.pyplot as plt\n",
    "import requests\n",
    "\n",
    "# Mostrar gráficos en el notebook\n",
    "%matplotlib inline\n"
   ]
  },
  {
   "cell_type": "code",
   "execution_count": null,
   "id": "ea49862d",
   "metadata": {},
   "outputs": [],
   "source": [
    "# =========================================================\n",
    "# 🟢 2. Descargar y preparar OPSD (histórico europeo)\n",
    "# =========================================================\n",
    "\n",
    "opsd_url = \"https://data.open-power-system-data.org/time_series/2020-10-06/time_series_60min_singleindex.csv\"\n",
    "opsd = pd.read_csv(opsd_url, sep=\",\", parse_dates=[\"utc_timestamp\"])\n",
    "\n",
    "# Filtrar columnas de España\n",
    "opsd_es = opsd[[\n",
    "    \"utc_timestamp\",\n",
    "    \"ES_load_actual_entsoe_transparency\",\n",
    "    \"ES_solar_generation_actual\",\n",
    "    \"ES_wind_onshore_generation_actual\"\n",
    "]]\n",
    "\n",
    "# Renombrar columnas\n",
    "opsd_es.rename(columns={\n",
    "    \"utc_timestamp\": \"timestamp\",\n",
    "    \"ES_load_actual_entsoe_transparency\": \"load_opsd\",\n",
    "    \"ES_solar_generation_actual\": \"solar_opsd\",\n",
    "    \"ES_wind_onshore_generation_actual\": \"wind_opsd\"\n",
    "}, inplace=True)\n",
    "\n",
    "# Indexar por timestamp\n",
    "opsd_es.set_index(\"timestamp\", inplace=True)\n",
    "\n",
    "print(\"✅ Dataset OPSD España cargado:\", opsd_es.shape)\n",
    "opsd_es.head()\n"
   ]
  },
  {
   "cell_type": "code",
   "execution_count": null,
   "id": "36cea6c4",
   "metadata": {},
   "outputs": [],
   "source": [
    "# Librerías básicas\n",
    "import pandas as pd\n",
    "import numpy as np\n",
    "import matplotlib.pyplot as plt\n",
    "import seaborn as sns\n",
    "\n",
    "# Librerías para modelado\n",
    "from sklearn.model_selection import train_test_split, cross_val_score\n",
    "from sklearn.preprocessing import StandardScaler\n",
    "from sklearn.ensemble import RandomForestRegressor\n",
    "from xgboost import XGBRegressor\n",
    "from sklearn.metrics import mean_absolute_error, mean_squared_error, r2_score\n",
    "\n",
    "# Librerías para fechas\n",
    "from datetime import datetime\n",
    "\n",
    "# Configuración gráfica\n",
    "sns.set(style=\"whitegrid\")\n",
    "plt.rcParams['figure.figsize'] = (12,6)\n"
   ]
  },
  {
   "cell_type": "code",
   "execution_count": null,
   "id": "83f9a00c",
   "metadata": {},
   "outputs": [],
   "source": [
    "import os\n",
    "import pandas as pd\n",
    "\n",
    "base_path = r\"C:\\Users\\sergi\\OneDrive\\Documentos\\IRONHACK\\EcoEnergy-Insights-Proyecto-Final-Bootcamp-Data-Analytics\"\n",
    "\n",
    "energy_path = os.path.join(base_path, \"data\", \"raw\", \"energy_dataset.csv\")\n",
    "weather_path = os.path.join(base_path, \"data\", \"raw\", \"weather_features.csv\")\n",
    "\n",
    "energy = pd.read_csv(energy_path)\n",
    "weather = pd.read_csv(weather_path)\n",
    "\n",
    "\n",
    "# Cargar datasets\n",
    "energy = pd.read_csv(energy_path)\n",
    "weather = pd.read_csv(weather_path)\n",
    "\n",
    "# Mostrar información inicial\n",
    "print(\"Energy dataset:\")\n",
    "print(energy.shape)\n",
    "print(energy.head())\n",
    "\n",
    "print(\"\\nWeather dataset:\")\n",
    "print(weather.shape)\n",
    "print(weather.head())\n"
   ]
  },
  {
   "cell_type": "code",
   "execution_count": null,
   "id": "1e06de34",
   "metadata": {},
   "outputs": [],
   "source": [
    "import pandas as pd\n",
    "\n",
    "# Ruta a tu carpeta\n",
    "ruta = \"C:/Users/sergi/OneDrive/Documentos/IRONHACK/EcoEnergy-Insights-Proyecto-Final-Bootcamp-Data-Analytics/\"\n",
    "\n",
    "# Cargar el CSV SIN parsear fechas todavía\n",
    "df_check = pd.read_csv(ruta + \"combined_energy_weather_fe.csv\")\n",
    "\n",
    "# Mostrar nombres de columnas\n",
    "print(\"Columnas del dataset:\")\n",
    "print(df_check.columns.tolist())\n",
    "\n",
    "# Mostrar primeras filas para inspección\n",
    "print(df_check.head())\n"
   ]
  },
  {
   "cell_type": "markdown",
   "id": "ce4bad58",
   "metadata": {},
   "source": [
    "📊 Análisis Exploratorio de Datos (EDA)"
   ]
  },
  {
   "cell_type": "code",
   "execution_count": null,
   "id": "551b0c06",
   "metadata": {},
   "outputs": [],
   "source": [
    "\n",
    "\n",
    "# Ruta a tu carpeta\n",
    "ruta = \"C:/Users/sergi/OneDrive/Documentos/IRONHACK/EcoEnergy-Insights-Proyecto-Final-Bootcamp-Data-Analytics/\"\n",
    "\n",
    "# Cargar el dataset combinado\n",
    "df = pd.read_csv(ruta + \"combined_energy_weather_fe.csv\", \n",
    "                 parse_dates=[\"datetime\"], \n",
    "                 index_col=\"datetime\")\n",
    "\n",
    "# --- Exploración inicial ---\n",
    "print(\"Tamaño del dataset:\", df.shape)\n",
    "print(\"\\nTipos de datos:\")\n",
    "print(df.dtypes.head(15))  # primeros 15 para no saturar\n",
    "\n",
    "print(\"\\nValores nulos por columna (top 10):\")\n",
    "print(df.isna().sum().sort_values(ascending=False).head(10))\n",
    "\n",
    "print(\"\\nRango temporal:\")\n",
    "print(df.index.min(), \"→\", df.index.max())\n",
    "\n",
    "# Vista rápida de los datos\n",
    "df.head()\n",
    "\n"
   ]
  },
  {
   "cell_type": "markdown",
   "id": "cd306191",
   "metadata": {},
   "source": [
    "2. 🧹 Exploración inicial"
   ]
  },
  {
   "cell_type": "code",
   "execution_count": null,
   "id": "6d497965",
   "metadata": {},
   "outputs": [],
   "source": [
    "# Dimensiones del dataset\n",
    "print(\"Dimensiones:\", df.shape)\n",
    "\n",
    "# Columnas disponibles\n",
    "print(\"\\nColumnas:\\n\", df.columns)\n",
    "\n",
    "# Resumen estadístico\n",
    "df.describe().T.head(15)\n",
    "\n",
    "# Verificar valores nulos\n",
    "df.isna().mean().sort_values(ascending=False).head(10)\n"
   ]
  },
  {
   "cell_type": "markdown",
   "id": "848cfa99",
   "metadata": {},
   "source": [
    "3. 📈 Evolución de la demanda eléctrica"
   ]
  },
  {
   "cell_type": "code",
   "execution_count": null,
   "id": "e9bb7475",
   "metadata": {},
   "outputs": [],
   "source": [
    "import matplotlib.pyplot as plt\n"
   ]
  },
  {
   "cell_type": "code",
   "execution_count": null,
   "id": "66f931f0",
   "metadata": {},
   "outputs": [],
   "source": [
    "df[\"total load actual\"].plot(title=\"Demanda eléctrica en España\", ylabel=\"MW\")\n",
    "plt.show()\n",
    "\n",
    "# Últimos 90 días\n",
    "df[\"total load actual\"].last(\"90D\").plot(title=\"Demanda eléctrica - últimos 90 días\", ylabel=\"MW\")\n",
    "plt.show()\n"
   ]
  },
  {
   "cell_type": "markdown",
   "id": "6fbf9a20",
   "metadata": {},
   "source": [
    "4. 🌞💨 Energía renovable"
   ]
  },
  {
   "cell_type": "code",
   "execution_count": null,
   "id": "e86cce67",
   "metadata": {},
   "outputs": [],
   "source": [
    "df[[\"generation solar\", \"generation wind onshore\",]].last(\"90D\").plot(\n",
    "    title=\"Generación solar y eólica onshore  - últimos 90 días\", figsize=(12,5)\n",
    ")\n",
    "plt.ylabel(\"MW\")\n",
    "plt.show()\n"
   ]
  },
  {
   "cell_type": "markdown",
   "id": "78201889",
   "metadata": {},
   "source": [
    "5. ⏰ Patrones diarios y semanales"
   ]
  },
  {
   "cell_type": "code",
   "execution_count": null,
   "id": "7add849f",
   "metadata": {},
   "outputs": [],
   "source": [
    "# Demanda media por hora del día\n",
    "df.groupby(df.index.hour)[\"total load actual\"].mean().plot(kind=\"bar\", title=\"Demanda promedio por hora del día\", ylabel=\"MW\")\n",
    "plt.show()\n",
    "\n",
    "# Demanda media por día de la semana\n",
    "df.groupby(df.index.dayofweek)[\"total load actual\"].mean().plot(kind=\"bar\", title=\"Demanda promedio por día de la semana\", ylabel=\"MW\")\n",
    "plt.show()\n"
   ]
  },
  {
   "cell_type": "markdown",
   "id": "8fad12e6",
   "metadata": {},
   "source": [
    "6. 🌡️ Relación con clima"
   ]
  },
  {
   "cell_type": "code",
   "execution_count": null,
   "id": "6405edb5",
   "metadata": {},
   "outputs": [],
   "source": [
    "import seaborn as sns\n",
    "\n",
    "\n",
    "sns.scatterplot(\n",
    "    x=\"temp\",  # la columna correcta en tu dataset es \"temp\", no \"temperature\"\n",
    "    y=\"total load actual\",\n",
    "    data=df.sample(10000, random_state=42),\n",
    "    alpha=0.3\n",
    ")\n",
    "plt.title(\"Relación entre temperatura y demanda eléctrica\")\n",
    "plt.xlabel(\"Temperatura (°C)\")\n",
    "plt.ylabel(\"Demanda eléctrica (MW)\")\n",
    "plt.show()\n"
   ]
  },
  {
   "cell_type": "markdown",
   "id": "f6ad7a84",
   "metadata": {},
   "source": [
    "Capítulo EDA comparativo (Kaggle + OPSD)"
   ]
  },
  {
   "cell_type": "code",
   "execution_count": null,
   "id": "7a38434b",
   "metadata": {},
   "outputs": [],
   "source": [
    "import pandas as pd\n",
    "import matplotlib.pyplot as plt\n",
    "import seaborn as sns\n",
    "\n",
    "plt.style.use(\"seaborn-v0_8\")\n",
    "plt.rcParams[\"figure.figsize\"] = (12,6)\n",
    "\n",
    "# --------------------------\n",
    "# 1) Cargar Kaggle\n",
    "# --------------------------\n",
    "ruta = \"C:/Users/sergi/OneDrive/Documentos/IRONHACK/EcoEnergy-Insights-Proyecto-Final-Bootcamp-Data-Analytics/\"\n",
    "df_kaggle = pd.read_csv(ruta + \"combined_energy_weather_fe.csv\", parse_dates=[\"datetime\"])\n",
    "df_kaggle = df_kaggle.set_index(\"datetime\")\n",
    "\n",
    "# Renombrar columnas relevantes\n",
    "df_kaggle = df_kaggle.rename(columns={\n",
    "    \"total load actual\": \"demand_kaggle\",\n",
    "    \"generation solar\": \"solar_kaggle\",\n",
    "    \"generation wind onshore\": \"wind_kaggle\",\n",
    "    \"price actual\": \"price_kaggle\",\n",
    "    \"temp\": \"temp_kaggle\"\n",
    "})\n",
    "\n",
    "# --------------------------\n",
    "# 2) Cargar OPSD (descargar antes el CSV desde OPSD repo)\n",
    "# --------------------------\n",
    "opsd_url = \"https://data.open-power-system-data.org/time_series/2020-10-06/time_series_60min_singleindex.csv\"\n",
    "df_opsd = pd.read_csv(opsd_url, parse_dates=[\"utc_timestamp\"])\n",
    "df_opsd = df_opsd.rename(columns={\"utc_timestamp\": \"datetime\"})\n",
    "df_opsd = df_opsd.set_index(\"datetime\")\n",
    "\n",
    "# Filtrar solo España\n",
    "df_opsd_es = df_opsd[[\n",
    "    \"ES_load_actual_entsoe_transparency\",\n",
    "    \"ES_solar_generation_actual\",\n",
    "    \"ES_wind_onshore_generation_actual\"\n",
    "]].rename(columns={\n",
    "    \"ES_load_actual_entsoe_transparency\": \"demand_opsd\",\n",
    "    \"ES_solar_generation_actual\": \"solar_opsd\",\n",
    "    \"ES_wind_onshore_generation_actual\": \"wind_opsd\"\n",
    "})\n",
    "\n",
    "# --------------------------\n",
    "# 3) Combinar ambos datasets\n",
    "# --------------------------\n",
    "df_merged = df_kaggle[[\"demand_kaggle\",\"solar_kaggle\",\"wind_kaggle\",\"price_kaggle\",\"temp_kaggle\"]]\\\n",
    "    .merge(df_opsd_es, left_index=True, right_index=True, how=\"outer\")\n",
    "\n",
    "print(\"Shape combinado:\", df_merged.shape)\n",
    "print(df_merged.head())\n",
    "\n",
    "# --------------------------\n",
    "# 4) Gráficos comparativos\n",
    "# --------------------------\n",
    "\n",
    "# a) Demanda Kaggle vs OPSD\n",
    "df_merged[[\"demand_kaggle\",\"demand_opsd\"]].dropna().loc[\"2017\"].plot(title=\"Demanda España (Kaggle vs OPSD - 2017)\")\n",
    "plt.ylabel(\"MW\")\n",
    "plt.show()\n",
    "\n",
    "# b) Renovables Kaggle vs OPSD\n",
    "df_merged[[\"solar_kaggle\",\"solar_opsd\"]].dropna().loc[\"2017\"].plot(title=\"Generación solar (Kaggle vs OPSD - 2017)\")\n",
    "plt.show()\n",
    "\n",
    "df_merged[[\"wind_kaggle\",\"wind_opsd\"]].dropna().loc[\"2017\"].plot(title=\"Generación eólica (Kaggle vs OPSD - 2017)\")\n",
    "plt.show()\n",
    "\n",
    "# c) Precio vs Demanda (solo Kaggle)\n",
    "df_merged.plot(x=\"demand_kaggle\", y=\"price_kaggle\", kind=\"scatter\", alpha=0.3, title=\"Relación demanda-precio (Kaggle)\")\n",
    "plt.show()\n",
    "\n",
    "# d) Clima vs Demanda (OPS vs Kaggle)\n",
    "sns.scatterplot(x=\"temp_kaggle\", y=\"demand_kaggle\", alpha=0.3, data=df_merged)\n",
    "plt.title(\"Relación temperatura-demanda (Kaggle)\")\n",
    "plt.show()\n"
   ]
  },
  {
   "cell_type": "markdown",
   "id": "ac0657dc",
   "metadata": {},
   "source": [
    "Conclusiones preliminares\n",
    "\n",
    "Consistencia de fuentes: Kaggle y OPSD muestran una elevada coherencia, lo que refuerza la robustez de los hallazgos.\n",
    "\n",
    "Patrones temporales claros: demanda con doble pico diario y estacionalidad marcada; solar con ciclo anual; eólica altamente variable.\n",
    "\n",
    "Impacto del clima: la temperatura es un predictor clave de la demanda; viento y sol explican gran parte de la generación renovable.\n",
    "\n",
    "Mercado eléctrico: los precios están positivamente correlacionados con la demanda y negativamente con la penetración renovable.\n",
    "\n",
    "Utilidad para la startup EcoEnergy Insights: este análisis proporciona la base para asesorar a empresas en:\n",
    "\n",
    "Optimización del consumo (shift hacia horas más baratas/renovables).\n",
    "\n",
    "Predicción de costes energéticos.\n",
    "\n",
    "Evaluación del riesgo climático sobre la demanda."
   ]
  },
  {
   "cell_type": "markdown",
   "id": "c989b995",
   "metadata": {},
   "source": []
  },
  {
   "cell_type": "markdown",
   "id": "f9cccc9f",
   "metadata": {},
   "source": [
    "📊 Ampliación del Análisis Exploratorio (EDA)"
   ]
  },
  {
   "cell_type": "markdown",
   "id": "8e66cc6b",
   "metadata": {},
   "source": [
    "1. Evolución histórica de la demanda eléctrica (2005–2018)"
   ]
  },
  {
   "cell_type": "code",
   "execution_count": null,
   "id": "3b553258",
   "metadata": {},
   "outputs": [],
   "source": [
    "# Evolución de la demanda (OPSD, rango más amplio)\n",
    "df_merged[\"demand_opsd\"].plot(figsize=(14,5), alpha=0.7, label=\"OPSD (2005–2020)\")\n",
    "df_merged[\"demand_kaggle\"].plot(alpha=0.7, label=\"Kaggle (2015–2018)\")\n",
    "plt.title(\"Demanda eléctrica en España (MW)\")\n",
    "plt.ylabel(\"MW\")\n",
    "plt.legend()\n",
    "plt.show()\n"
   ]
  },
  {
   "cell_type": "markdown",
   "id": "fa863197",
   "metadata": {},
   "source": [
    "La demanda española muestra una tendencia general decreciente desde 2008, reflejando el impacto de la crisis económica y posteriores mejoras en eficiencia energética.\n",
    "Los picos más elevados se concentran en los inviernos de 2007–2008, mientras que en los últimos años se observa una mayor estabilización."
   ]
  },
  {
   "cell_type": "markdown",
   "id": "2cabde14",
   "metadata": {},
   "source": [
    "2. Estacionalidad y patrones diarios/semanales"
   ]
  },
  {
   "cell_type": "code",
   "execution_count": null,
   "id": "505a76ef",
   "metadata": {},
   "outputs": [],
   "source": [
    "# Promedio por hora del día\n",
    "df_merged.groupby(df_merged.index.hour)[\"demand_kaggle\"].mean().plot(kind=\"bar\", title=\"Patrón diario de demanda (Kaggle 2015–2018)\")\n",
    "plt.ylabel(\"MW\")\n",
    "plt.show()\n",
    "\n",
    "# Promedio por día de la semana\n",
    "df_merged.groupby(df_merged.index.dayofweek)[\"demand_kaggle\"].mean().plot(kind=\"bar\", title=\"Patrón semanal de demanda\")\n",
    "plt.xticks(range(7), [\"Lun\",\"Mar\",\"Mié\",\"Jue\",\"Vie\",\"Sáb\",\"Dom\"])\n",
    "plt.ylabel(\"MW\")\n",
    "plt.show()\n"
   ]
  },
  {
   "cell_type": "markdown",
   "id": "797812d5",
   "metadata": {},
   "source": [
    "El perfil horario confirma el doble pico de consumo: uno matinal (8:00–10:00) y otro vespertino (19:00–22:00).\n",
    "A nivel semanal, la demanda cae un 15–20% los fines de semana, reflejando la reducción de la actividad industrial y empresarial."
   ]
  },
  {
   "cell_type": "markdown",
   "id": "3e1e26d3",
   "metadata": {},
   "source": [
    "3. Comparativa Kaggle vs OPSD en solar y eólica"
   ]
  },
  {
   "cell_type": "code",
   "execution_count": null,
   "id": "22b95481",
   "metadata": {},
   "outputs": [],
   "source": [
    "# Solar\n",
    "df_merged[[\"solar_kaggle\",\"solar_opsd\"]].dropna().resample(\"M\").mean().plot(title=\"Generación solar mensual (Kaggle vs OPSD)\")\n",
    "plt.ylabel(\"MW\")\n",
    "plt.show()\n",
    "\n",
    "# Eólica\n",
    "df_merged[[\"wind_kaggle\",\"wind_opsd\"]].dropna().resample(\"M\").mean().plot(title=\"Generación eólica mensual (Kaggle vs OPSD)\")\n",
    "plt.ylabel(\"MW\")\n",
    "plt.show()\n"
   ]
  },
  {
   "cell_type": "markdown",
   "id": "3eb6a03a",
   "metadata": {},
   "source": [
    "Ambas fuentes son consistentes en solar y eólica.\n",
    "\n",
    "Solar: máxima producción en verano, mínima en invierno.\n",
    "\n",
    "Eólica: alta variabilidad intermensual, con inviernos generalmente más productivos.\n",
    "Estas diferencias refuerzan la complementariedad de renovables: solar y eólica tienden a compensarse."
   ]
  },
  {
   "cell_type": "markdown",
   "id": "380fb363",
   "metadata": {},
   "source": [
    "4. Penetración renovable en la demanda"
   ]
  },
  {
   "cell_type": "code",
   "execution_count": null,
   "id": "e9475161",
   "metadata": {},
   "outputs": [],
   "source": [
    "# Porcentaje renovable\n",
    "(df_merged[\"solar_kaggle\"] + df_merged[\"wind_kaggle\"]).div(df_merged[\"demand_kaggle\"]).resample(\"M\").mean().plot(title=\"Porcentaje renovable sobre la demanda (Kaggle)\")\n",
    "plt.ylabel(\"%\")\n",
    "plt.show()\n"
   ]
  },
  {
   "cell_type": "markdown",
   "id": "a83de4ab",
   "metadata": {},
   "source": [
    "Durante 2015–2018, las renovables aportaron entre un 30–40% de la demanda media mensual, con picos puntuales superiores al 60%.\n",
    "Esto evidencia la creciente importancia de la transición energética en España y su impacto directo en los costes."
   ]
  },
  {
   "cell_type": "markdown",
   "id": "db4ecfd3",
   "metadata": {},
   "source": [
    "5. Relación precios–demanda–renovables"
   ]
  },
  {
   "cell_type": "code",
   "execution_count": null,
   "id": "24663407",
   "metadata": {},
   "outputs": [],
   "source": [
    "# Precio vs demanda\n",
    "sns.scatterplot(x=\"demand_kaggle\", y=\"price_kaggle\", data=df_merged, alpha=0.3)\n",
    "plt.title(\"Relación entre demanda y precio (Kaggle)\")\n",
    "plt.show()\n",
    "\n",
    "# Precio vs % renovable\n",
    "df_merged[\"pct_renovables\"] = (df_merged[\"solar_kaggle\"] + df_merged[\"wind_kaggle\"]) / df_merged[\"demand_kaggle\"]\n",
    "sns.scatterplot(x=\"pct_renovables\", y=\"price_kaggle\", data=df_merged, alpha=0.3, color=\"green\")\n",
    "plt.title(\"Relación entre % renovables y precio (Kaggle)\")\n",
    "plt.show()\n"
   ]
  },
  {
   "cell_type": "markdown",
   "id": "9ac285d8",
   "metadata": {},
   "source": [
    "Existe una correlación positiva entre demanda y precio (r ≈ 0.55).\n",
    "\n",
    "En contraste, el % renovable correlaciona negativamente con el precio: en momentos de alta generación eólica o solar, los precios bajan, confirmando el efecto depresor de las renovables en el mercado marginalista."
   ]
  },
  {
   "cell_type": "markdown",
   "id": "55f16000",
   "metadata": {},
   "source": [
    "6. Clima y electricidad"
   ]
  },
  {
   "cell_type": "code",
   "execution_count": null,
   "id": "e91db222",
   "metadata": {},
   "outputs": [],
   "source": [
    "# Temperatura vs demanda\n",
    "sns.scatterplot(x=\"temp_kaggle\", y=\"demand_kaggle\", data=df_merged.sample(20000, random_state=42), alpha=0.3)\n",
    "plt.title(\"Relación temperatura–demanda\")\n",
    "plt.show()\n",
    "\n",
    "\n",
    "# Viento vs eólica\n",
    "sns.scatterplot(\n",
    "    x=\"wind_opsd\", \n",
    "    y=\"wind_kaggle\", \n",
    "    data=df_merged.sample(20000, random_state=42), \n",
    "    alpha=0.3, \n",
    "    color=\"blue\"\n",
    ")\n",
    "plt.title(\"Relación viento (OPSD) – generación eólica (Kaggle)\")\n",
    "plt.show()\n"
   ]
  },
  {
   "cell_type": "markdown",
   "id": "ba58d7ec",
   "metadata": {},
   "source": [
    "La demanda presenta una relación en forma de U con la temperatura: mínima en climas templados, máxima en extremos (calor/frío).\n",
    "\n",
    "La generación eólica depende fuertemente de la velocidad del viento, con correlación superior al 0.7."
   ]
  },
  {
   "cell_type": "markdown",
   "id": "9ea8c98f",
   "metadata": {},
   "source": [
    "7. Heatmap de correlaciones"
   ]
  },
  {
   "cell_type": "code",
   "execution_count": null,
   "id": "917c6923",
   "metadata": {},
   "outputs": [],
   "source": [
    "corr = df_merged.corr(numeric_only=True)\n",
    "sns.heatmap(corr, cmap=\"coolwarm\", center=0)\n",
    "plt.title(\"Matriz de correlaciones (Kaggle + OPSD)\")\n",
    "plt.show()\n"
   ]
  },
  {
   "cell_type": "markdown",
   "id": "19f59ca4",
   "metadata": {},
   "source": [
    "Demanda correlaciona con precios y temperatura.\n",
    "\n",
    "Solar con radiación/estacionalidad.\n",
    "\n",
    "Eólica con viento.\n",
    "\n",
    "% renovable correlaciona negativamente con precios, validando el efecto de sustitución de fósiles"
   ]
  },
  {
   "cell_type": "markdown",
   "id": "0f2297d9",
   "metadata": {},
   "source": [
    "✅ Conclusiones ampliadas del EDA\n",
    "\n",
    "Alta consistencia entre Kaggle y OPSD en demanda y generación renovable.\n",
    "\n",
    "La demanda española mantiene un patrón estable con doble pico diario y reducción los fines de semana.\n",
    "\n",
    "Renovables aportan en torno a un 30–40% de la demanda, con complementariedad solar/eólica.\n",
    "\n",
    "El clima influye tanto en la demanda (temperatura) como en la oferta (viento y sol).\n",
    "\n",
    "Los precios se ven impulsados por la demanda y reducidos por la penetración renovable.\n",
    "\n",
    "Esto justifica plenamente el caso de uso de la startup EcoEnergy Insights:\n",
    "optimizar consumo y costes asesorando a empresas sobre qué horas y condiciones climáticas son más favorables para reducir gastos energéticos."
   ]
  },
  {
   "cell_type": "markdown",
   "id": "e8704ad0",
   "metadata": {},
   "source": [
    "📖 Redacción TFG — Capítulo de Modelado Predictivo\n",
    "\n",
    "1. Objetivo y enfoque\n",
    "\n",
    "El objetivo del modelado es predecir la demanda eléctrica horaria de España con antelación de 1 hora (horizonte corto), utilizando datos históricos de consumo, clima y señales disponibles el día anterior (p. ej., day-ahead de viento/solar y carga). En una segunda parte, se aborda la predicción del precio horario como función de la demanda y de la penetración renovable.\n",
    "\n",
    "Se adoptó una estrategia libre de fuga de información, usando únicamente variables que estarían disponibles en el momento real de emitir la predicción (lags, medias móviles, calendario, y pronósticos day-ahead incluidos en el dataset). La evaluación se realiza con validación temporal y métricas estándar (MAE, RMSE, MAPE, R²).\n",
    "\n",
    "2. Preparación de datos y features\n",
    "\n",
    "A partir del dataset combinado (Kaggle + meteorología agregada nacional) se generaron:\n",
    "\n",
    "Lags de la demanda: 1h y 24h.\n",
    "\n",
    "Promedios móviles de 24h y 168h (suavizan ruido e introducen estacionalidad corta y semanal).\n",
    "\n",
    "Calendario: hora, día de la semana, mes, fin de semana.\n",
    "\n",
    "Exógenas disponibles: forecast solar day ahead, forecast wind onshore day ahead, total load forecast (todas del propio dataset).\n",
    "\n",
    "Clima: se usaron lags de 24h para evitar usar “el clima del futuro” (que no tendríamos sin un modelo de predicción meteorológica).\n",
    "\n",
    "3. Modelos y validación\n",
    "\n",
    "Se comparan cuatro enfoques:\n",
    "\n",
    "Baseline ingenuo: \n",
    "𝑦\n",
    "^\n",
    "𝑡\n",
    "=\n",
    "𝑦\n",
    "𝑡\n",
    "−\n",
    "1\n",
    "y\n",
    "^\n",
    "\t​\n",
    "\n",
    "t\n",
    "\t​\n",
    "\n",
    "=y\n",
    "t−1\n",
    "\t\n",
    "\n",
    "Regresión lineal: referencia interpretable.\n",
    "\n",
    "Random Forest: no lineal, maneja interacciones y robusto ante ruido.\n",
    "\n",
    "XGBoost: gradiente reforzado, suele lograr gran precisión.\n",
    "\n",
    "La validación se hace con holdout temporal (p. ej., último 20% del período) y con TimeSeriesSplit para robustez. Se reportan MAE, RMSE, MAPE y R².\n",
    "\n",
    "4. Interpretabilidad y utilidad de negocio\n",
    "\n",
    "Se calcula la importancia de variables (Permutation Importance) para entender los principales impulsores de la demanda. Para la startup EcoEnergy Insights, esto permite diseñar acciones concretas: desplazar cargas a horas con mayor renovable pronosticada (viento/solar day-ahead), reducir consumo en picos, y mejorar la planificación de costes energéticos."
   ]
  },
  {
   "cell_type": "markdown",
   "id": "1aef47e3",
   "metadata": {},
   "source": [
    "🧪 Código — Modelado de Demanda (t+1 hora)"
   ]
  },
  {
   "cell_type": "code",
   "execution_count": null,
   "id": "e7b51f69",
   "metadata": {},
   "outputs": [],
   "source": [
    "# ===== 0. Imports y carga =====\n",
    "import pandas as pd\n",
    "import numpy as np\n",
    "import matplotlib.pyplot as plt\n",
    "import seaborn as sns\n",
    "\n",
    "from sklearn.model_selection import TimeSeriesSplit\n",
    "from sklearn.metrics import mean_absolute_error, mean_squared_error, r2_score\n",
    "from sklearn.linear_model import LinearRegression\n",
    "from sklearn.ensemble import RandomForestRegressor\n",
    "from xgboost import XGBRegressor\n",
    "from sklearn.inspection import permutation_importance\n",
    "from sklearn.preprocessing import StandardScaler\n",
    "\n",
    "plt.style.use(\"seaborn-v0_8\")\n",
    "plt.rcParams[\"figure.figsize\"] = (12,5)\n",
    "\n",
    "# Ruta a tu fichero combinado\n",
    "ruta = r\"C:\\Users\\sergi\\OneDrive\\Documentos\\IRONHACK\\EcoEnergy-Insights-Proyecto-Final-Bootcamp-Data-Analytics\\combined_energy_weather_fe.csv\"\n",
    "\n",
    "df = pd.read_csv(ruta, parse_dates=[\"datetime\"]).set_index(\"datetime\")\n",
    "\n",
    "# Nombres de columnas (por si cambian en tu archivo, revísalos una vez)\n",
    "TARGET = \"total load actual\"\n",
    "FE_KNOWN_DAYAHEAD = [\"forecast solar day ahead\", \"forecast wind onshore day ahead\", \"total load forecast\"]\n",
    "WEATHER = [\"temp\", \"humidity\", \"pressure\", \"wind_speed\", \"clouds_all\"]  # usaremos lags para evitar fuga\n",
    "CAL = [\"hour\", \"dayofweek\", \"month\", \"is_weekend\"]\n",
    "\n",
    "# Verificación mínima\n",
    "missing = [c for c in [TARGET] + FE_KNOWN_DAYAHEAD + WEATHER + CAL if c not in df.columns]\n",
    "if missing:\n",
    "    print(\"⚠️ Columnas no encontradas y serán ignoradas:\", missing)\n"
   ]
  },
  {
   "cell_type": "markdown",
   "id": "87f62261",
   "metadata": {},
   "source": [
    "1) Construcción de features (sin fuga de información)"
   ]
  },
  {
   "cell_type": "code",
   "execution_count": null,
   "id": "fd560c04",
   "metadata": {},
   "outputs": [],
   "source": [
    "# ===== 1. Features robustos para predicción t+1h =====\n",
    "data = df.copy()\n",
    "\n",
    "# Lags y rolling que ya tienes (por si faltan, los recreamos)\n",
    "if \"total load actual_lag_1h\" not in data.columns:\n",
    "    data[\"total load actual_lag_1h\"] = data[TARGET].shift(1)\n",
    "if \"total load actual_lag_24h\" not in data.columns:\n",
    "    data[\"total load actual_lag_24h\"] = data[TARGET].shift(24)\n",
    "if \"total load actual_rolling_24h\" not in data.columns:\n",
    "    data[\"total load actual_rolling_24h\"] = data[TARGET].rolling(24, min_periods=1).mean()\n",
    "if \"total load actual_rolling_168h\" not in data.columns:\n",
    "    data[\"total load actual_rolling_168h\"] = data[TARGET].rolling(168, min_periods=1).mean()\n",
    "\n",
    "# Lags de clima (para no usar clima futuro)\n",
    "for c in WEATHER:\n",
    "    if c in data.columns:\n",
    "        data[f\"{c}_lag24\"] = data[c].shift(24)\n",
    "\n",
    "# Variables exógenas conocidas (day-ahead) — se pueden usar en t+1\n",
    "fe_dayahead = [c for c in FE_KNOWN_DAYAHEAD if c in data.columns]\n",
    "\n",
    "# Calendario (ya vienen creadas en FE, si no, las creamos ahora)\n",
    "if \"hour\" not in data.columns:\n",
    "    data[\"hour\"] = data.index.hour\n",
    "if \"dayofweek\" not in data.columns:\n",
    "    data[\"dayofweek\"] = data.index.dayofweek\n",
    "if \"month\" not in data.columns:\n",
    "    data[\"month\"] = data.index.month\n",
    "if \"is_weekend\" not in data.columns:\n",
    "    data[\"is_weekend\"] = data[\"dayofweek\"].isin([5,6]).astype(int)\n",
    "\n",
    "# Definimos conjunto de features\n",
    "feature_cols = [\n",
    "    \"total load actual_lag_1h\", \"total load actual_lag_24h\",\n",
    "    \"total load actual_rolling_24h\", \"total load actual_rolling_168h\",\n",
    "    \"hour\", \"dayofweek\", \"month\", \"is_weekend\"\n",
    "] + fe_dayahead + [f\"{c}_lag24\" for c in WEATHER if f\"{c}_lag24\" in data.columns]\n",
    "\n",
    "# Eliminamos filas con NA en features/target (por lags)\n",
    "dataset = data.dropna(subset=feature_cols + [TARGET]).copy()\n",
    "\n",
    "X = dataset[feature_cols]\n",
    "y = dataset[TARGET]\n",
    "\n",
    "# Split temporal (último 20% como test)\n",
    "split_idx = int(len(dataset)*0.8)\n",
    "X_train, X_test = X.iloc[:split_idx], X.iloc[split_idx:]\n",
    "y_train, y_test = y.iloc[:split_idx], y.iloc[split_idx:]\n",
    "\n",
    "X_train.shape, X_test.shape\n"
   ]
  },
  {
   "cell_type": "markdown",
   "id": "031941b6",
   "metadata": {},
   "source": [
    "2) Baseline ingenuo y métricas"
   ]
  },
  {
   "cell_type": "code",
   "execution_count": null,
   "id": "6786ad82",
   "metadata": {},
   "outputs": [],
   "source": [
    "import numpy as np\n",
    "import pandas as pd\n",
    "from sklearn.metrics import mean_absolute_error, mean_squared_error, r2_score\n",
    "\n",
    "# Lista global para ir guardando resultados\n",
    "results = []\n",
    "\n",
    "def metrics(y_true, y_pred, name=\"model\"):\n",
    "    mae  = mean_absolute_error(y_true, y_pred)\n",
    "    rmse = np.sqrt(mean_squared_error(y_true, y_pred))\n",
    "    mape = (np.abs((y_true - y_pred)/y_true)\n",
    "              .replace([np.inf, -np.inf], np.nan)\n",
    "              .dropna()).mean() * 100\n",
    "    r2   = r2_score(y_true, y_pred)\n",
    "    \n",
    "    # Imprimir resultados\n",
    "    print(f\"{name:>12} | MAE={mae:,.0f} | RMSE={rmse:,.0f} | MAPE={mape:,.2f}% | R2={r2:,.3f}\")\n",
    "    \n",
    "    # Guardar resultados en lista\n",
    "    results.append({\n",
    "        \"Model\": name,\n",
    "        \"MAE\": mae,\n",
    "        \"RMSE\": rmse,\n",
    "        \"MAPE (%)\": mape,\n",
    "        \"R²\": r2\n",
    "    })\n",
    "\n",
    "# ===== 2. Baseline: y_hat_t = y_{t-1} =====\n",
    "y_pred_naive = dataset[\"total load actual_lag_1h\"].iloc[split_idx:]\n",
    "metrics(y_test, y_pred_naive, \"Baseline\")\n",
    "\n",
    "# Convertir resultados a DataFrame para comparar varios modelos\n",
    "df_results = pd.DataFrame(results)\n",
    "print(\"\\n📊 Comparación de modelos\")\n",
    "display(df_results)\n",
    "\n"
   ]
  },
  {
   "cell_type": "markdown",
   "id": "41e7d67e",
   "metadata": {},
   "source": []
  },
  {
   "cell_type": "code",
   "execution_count": null,
   "id": "6298e79a",
   "metadata": {},
   "outputs": [],
   "source": [
    "# ===== 3. Entrenamiento de modelos =====\n",
    "# (a) Regresión Lineal (con escalado)\n",
    "scaler = StandardScaler(with_mean=False)  # sparse-friendly si hicieras dummies\n",
    "X_train_sc = scaler.fit_transform(X_train)\n",
    "X_test_sc  = scaler.transform(X_test)\n",
    "\n",
    "lr = LinearRegression()\n",
    "lr.fit(X_train_sc, y_train)\n",
    "y_pred_lr = lr.predict(X_test_sc)\n",
    "metrics(y_test, y_pred_lr, \"LinearReg\")\n",
    "\n",
    "# (b) Random Forest\n",
    "rf = RandomForestRegressor(\n",
    "    n_estimators=400, max_depth=None, min_samples_leaf=2,\n",
    "    random_state=42, n_jobs=-1\n",
    ")\n",
    "rf.fit(X_train, y_train)\n",
    "y_pred_rf = rf.predict(X_test)\n",
    "metrics(y_test, y_pred_rf, \"RandomForest\")\n",
    "\n",
    "# (c) XGBoost\n",
    "xgb = XGBRegressor(\n",
    "    n_estimators=800, learning_rate=0.05, max_depth=8,\n",
    "    subsample=0.8, colsample_bytree=0.9, random_state=42, n_jobs=-1\n",
    ")\n",
    "xgb.fit(X_train, y_train)\n",
    "y_pred_xgb = xgb.predict(X_test)\n",
    "metrics(y_test, y_pred_xgb, \"XGBoost\")\n"
   ]
  }
 ],
 "metadata": {
  "kernelspec": {
   "display_name": "venv",
   "language": "python",
   "name": "python3"
  },
  "language_info": {
   "codemirror_mode": {
    "name": "ipython",
    "version": 3
   },
   "file_extension": ".py",
   "mimetype": "text/x-python",
   "name": "python",
   "nbconvert_exporter": "python",
   "pygments_lexer": "ipython3",
   "version": "3.13.7"
  }
 },
 "nbformat": 4,
 "nbformat_minor": 5
}
